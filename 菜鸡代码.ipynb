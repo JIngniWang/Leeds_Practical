{
 "cells": [
  {
   "cell_type": "markdown",
   "metadata": {},
   "source": [
    "## 数据预处理"
   ]
  },
  {
   "cell_type": "code",
   "execution_count": 4,
   "metadata": {},
   "outputs": [],
   "source": [
    "# training data\n",
    "import pandas as pd\n",
    "import arff\n",
    "import numpy as np\n",
    "import emoji\n",
    "import string\n",
    "import re\n",
    "from pandas import DataFrame,concat\n",
    "from nltk.corpus import stopwords\n",
    "#from nltk.stem import WordNetLemmatizer\n",
    "import nltk\n",
    "ps=nltk.PorterStemmer()\n",
    "stop=set(stopwords.words('english')) \n",
    "stop_new=set()\n",
    "for i in stop:\n",
    "    for k in i:\n",
    "        if k.isalpha():\n",
    "            True\n",
    "        else:\n",
    "            i=i.replace(k,'')\n",
    "    stop_new.add(i)   \n",
    "train=pd.read_csv('olid-training-v1.0.tsv', sep='\\t', header=0)\n",
    "train=train.drop('id',axis=1)\n",
    "train=train.reset_index(drop=True)\n",
    "tweet=train['tweet'].values.tolist()\n",
    "new=[]\n",
    "new2=[]\n",
    "for line in tweet:\n",
    "    word2=[]\n",
    "    line=emoji.demojize(line) \n",
    "    line=re.sub('[0-9]+',' ',line) \n",
    "    line=re.sub(u\"([\\u2010-\\u206F])\",' ',line) \n",
    "    for s in string.punctuation:\n",
    "        line=line.replace(s,\" \")\n",
    "    line=line.strip()\n",
    "    word=line.split()\n",
    "    while 'USER' in word: # 过滤user\n",
    "        word.remove('USER')\n",
    "    while 'URL' in word: # 过滤url\n",
    "        word.remove('URL')\n",
    "    word=[ps.stem(i) for i in word]# 把词改词根\n",
    "    for i in word: \n",
    "        if i.lower() not in stop_new: # 过滤停用词： 比不用有效果\n",
    "            word2.append(i)\n",
    "    word2=\" \".join(word2)\n",
    "    new.append(word2.lower())\n",
    "f_tweet=DataFrame(new,columns=['tweet'])\n",
    "df1=concat([f_tweet,train['subtask_a']],axis=1)\n",
    "df1.columns=['tweet','labels']"
   ]
  },
  {
   "cell_type": "code",
   "execution_count": 5,
   "metadata": {},
   "outputs": [],
   "source": [
    "# test data\n",
    "import pandas as pd\n",
    "import arff\n",
    "import numpy as np\n",
    "import emoji\n",
    "import string\n",
    "import re\n",
    "from pandas import DataFrame,concat\n",
    "from nltk.corpus import stopwords\n",
    "import nltk\n",
    "ps=nltk.PorterStemmer()\n",
    "stop=set(stopwords.words('english'))\n",
    "stop_new=set()\n",
    "for i in stop:\n",
    "    for k in i:\n",
    "        if k.isalpha():\n",
    "            True\n",
    "        else:\n",
    "            i=i.replace(k,'')\n",
    "    stop_new.add(i)   \n",
    "test=pd.read_csv('testset-levela.tsv', sep='\\t', header=0)\n",
    "label=pd.read_csv('labels-levela.csv', sep='\\t', header=-1)\n",
    "#test=test.drop_duplicates()\n",
    "#label=label.drop_duplicates()\n",
    "actual=label.values.tolist()\n",
    "tweet=test['tweet'].values.tolist()\n",
    "new=[]\n",
    "for line in tweet:\n",
    "    word2=[]\n",
    "    line=emoji.demojize(line)\n",
    "    line=re.sub('[0-9]+',' ',line)\n",
    "    line=re.sub(u\"([\\u2010-\\u206F])\",' ',line)\n",
    "    for s in string.punctuation:\n",
    "        line=line.replace(s,\" \")\n",
    "    line=line.strip()\n",
    "    word=line.split()\n",
    "    while 'USER' in word:\n",
    "        word.remove('USER')\n",
    "    while 'URL' in word:\n",
    "        word.remove('URL')\n",
    "    word=[ps.stem(i) for i in word]\n",
    " #   word=[wordnet_lemmatizer.lemmatize(i) for i in word]\n",
    "    for i in word:\n",
    "        if i.lower() not in stop_new:\n",
    "            word2.append(i)\n",
    "    word2=\" \".join(word2)\n",
    "    new.append(word2.lower())\n",
    "f_tweet=DataFrame(new,columns=['tweet']) \n",
    "f_tweet['tweet'] = f_tweet['tweet'].apply(lambda x: ' '.join([w for w in x.split() if len(w)>3]))\n",
    "result=[]\n",
    "for a in actual:\n",
    "    for line in a:\n",
    "        string=\"\"\n",
    "        for char in line:\n",
    "            if char.isalpha():\n",
    "                string=string+char\n",
    "    result.append(string)            \n",
    "actual_label=DataFrame(result,columns=['labels'])\n",
    "df2=concat([f_tweet,actual_label],axis=1)\n",
    "#df2.head()"
   ]
  },
  {
   "cell_type": "markdown",
   "metadata": {},
   "source": [
    "### 数据量"
   ]
  },
  {
   "cell_type": "code",
   "execution_count": 6,
   "metadata": {},
   "outputs": [
    {
     "name": "stdout",
     "output_type": "stream",
     "text": [
      "1. Counts of training data:\n",
      "Total：13240\n",
      "Labels are OFF：4400\n",
      "Labels are NOT：8840\n",
      "2. Counts of test data:\n",
      "Total：860\n",
      "Labels are OFF：240\n",
      "Labels are NOT：620\n"
     ]
    }
   ],
   "source": [
    "print(\"1. Counts of training data:\")\n",
    "print(\"Total：%s\" % df1['labels'].count())\n",
    "print(\"Labels are OFF：%s\" % df1[df1['labels']=='OFF']['labels'].count())\n",
    "print(\"Labels are NOT：%s\" % df1[df1['labels']=='NOT']['labels'].count())\n",
    "print(\"2. Counts of test data:\")\n",
    "print(\"Total：%s\" % df2['labels'].count())\n",
    "print(\"Labels are OFF：%s\" % df2[df2['labels']=='OFF']['labels'].count())\n",
    "print(\"Labels are NOT：%s\" % df2[df2['labels']=='NOT']['labels'].count())"
   ]
  },
  {
   "cell_type": "markdown",
   "metadata": {},
   "source": [
    "### 进行TF—IDF转换"
   ]
  },
  {
   "cell_type": "markdown",
   "metadata": {},
   "source": [
    "<a href=https://blog.csdn.net/u010099080/article/details/99000717>TF-IDF解释</a>"
   ]
  },
  {
   "cell_type": "markdown",
   "metadata": {},
   "source": [
    "<a href=https://blog.csdn.net/u010099080/article/details/99000717>TF-IDF参数</a>"
   ]
  },
  {
   "cell_type": "code",
   "execution_count": 58,
   "metadata": {},
   "outputs": [],
   "source": [
    "import matplotlib\n",
    "import pandas as pd\n",
    "import numpy as np\n",
    "X_train_raw = df1['tweet']\n",
    "y_train = df1['labels']\n",
    "X_test_raw = df2['tweet']\n",
    "y_test = df2['labels']\n",
    "# TfidfVectorizer feature matrix\n",
    "from sklearn.feature_extraction.text import TfidfVectorizer\n",
    "tfidf_vectorizer = TfidfVectorizer(max_df=0.90, min_df=2, max_features=3000, stop_words='english') # 改了max_features\n",
    "X_train = tfidf_vectorizer.fit_transform(X_train_raw)\n",
    "X_test = tfidf_vectorizer.transform(X_test_raw)"
   ]
  },
  {
   "cell_type": "code",
   "execution_count": 12,
   "metadata": {},
   "outputs": [],
   "source": [
    "#附：CountVectorizer\n",
    "# Bag-of-Words feature matrix\n",
    "#from sklearn.feature_extraction.text import CountVectorizer\n",
    "#bow_vectorizer = CountVectorizer(max_df=0.90, min_df=2, max_features=1000, stop_words='english')\n",
    "#X_train = bow_vectorizer.fit_transform(X_train_raw)\n",
    "#X_test = bow_vectorizer.fit_transform(X_test_raw)"
   ]
  },
  {
   "cell_type": "markdown",
   "metadata": {},
   "source": [
    "### 运行plot_confusion_matrix函数之前需要"
   ]
  },
  {
   "cell_type": "markdown",
   "metadata": {},
   "source": [
    "- 安装sklearn: <a href=https://scikit-learn.org/stable/install.html> 安装scikit-learn </a>"
   ]
  },
  {
   "cell_type": "markdown",
   "metadata": {},
   "source": [
    "- 更新sklearn: <a href=https://blog.csdn.net/bitcarmanlee/article/details/77856435>anaconda升级sklearn版本</a>"
   ]
  },
  {
   "cell_type": "markdown",
   "metadata": {},
   "source": [
    "## Logistic Regression\n",
    "<a href=https://blog.csdn.net/kingzone_2008/article/details/81067036>Logistic Regression参数说明</a>  "
   ]
  },
  {
   "cell_type": "markdown",
   "metadata": {},
   "source": [
    "一开始只考虑改单参数class_weight(两类样本不平衡，所以需要考虑权重)  \n",
    "设置成='balanced'与默认参数(NONE)相比：模型accuracy下降0.04,macro-f1提高0.004,OFF的recall增加0.18 "
   ]
  },
  {
   "cell_type": "markdown",
   "metadata": {},
   "source": [
    "#### 1. 用gridsearchcv调参得到最优参数组合"
   ]
  },
  {
   "cell_type": "code",
   "execution_count": 60,
   "metadata": {},
   "outputs": [
    {
     "name": "stdout",
     "output_type": "stream",
     "text": [
      "Best parameters set found: {'C': 1, 'class_weight': 'balanced', 'multi_class': 'ovr', 'penalty': 'l1', 'solver': 'liblinear'}\n"
     ]
    }
   ],
   "source": [
    "# Logistic Regression\n",
    "# Gridsearch\n",
    "import numpy as np\n",
    "from sklearn.datasets import load_digits\n",
    "from sklearn.linear_model import LogisticRegression\n",
    "from sklearn.model_selection import GridSearchCV\n",
    "\n",
    "digits = load_digits()\n",
    "lr = LogisticRegression()\n",
    "\n",
    "tuned_parameters={'penalty':['l1','l2'],\n",
    "                  'class_weight':[None,'balanced'],\n",
    "                   'C':[0.1,0.3,1,1.3,5,10],\n",
    "                   'solver':['liblinear'],\n",
    "                   'multi_class':['ovr']}\n",
    "\n",
    "grid_search = GridSearchCV(lr,tuned_parameters,cv=10,scoring='f1_macro') #此处模型得分选择了f1—macro\n",
    "grid_search.fit(X_train, y_train)\n",
    "print('Best parameters set found:',grid_search.best_params_)"
   ]
  },
  {
   "cell_type": "markdown",
   "metadata": {},
   "source": [
    "#### 2. 得到最优参数组合后，重新进行预测"
   ]
  },
  {
   "cell_type": "markdown",
   "metadata": {},
   "source": [
    "macro-f1-score=0.76,比默认参数模型提高0.04  \n",
    "OFF的recall=0.60，比默认参数模型提高0.17  \n",
    "模型accuracy=0.82，比默认参数模型提高0.01"
   ]
  },
  {
   "cell_type": "code",
   "execution_count": 59,
   "metadata": {},
   "outputs": [
    {
     "name": "stdout",
     "output_type": "stream",
     "text": [
      "              precision    recall  f1-score   support\n",
      "\n",
      "         NOT       0.85      0.90      0.88       620\n",
      "         OFF       0.70      0.60      0.65       240\n",
      "\n",
      "    accuracy                           0.82       860\n",
      "   macro avg       0.78      0.75      0.76       860\n",
      "weighted avg       0.81      0.82      0.81       860\n",
      "\n",
      "Accuracy score: 0.8162790697674419\n",
      "Precision score: 0.8101835069527157\n",
      "Recall score: 0.8162790697674419\n",
      "Macro-f1-score: 0.7608605360046744\n"
     ]
    }
   ],
   "source": [
    "from sklearn.metrics import classification_report\n",
    "from sklearn import metrics\n",
    "from sklearn.linear_model import LogisticRegression\n",
    "# 附：把标签转化成数字的工具\n",
    "#from sklearn.preprocessing import LabelEncoder\n",
    "#class_le = LabelEncoder()\n",
    "#y_train_n = class_le.fit_transform(y_train)\n",
    "#y_test_n = class_le.fit_transform(y_test)\n",
    "\n",
    "classifier_LR = LogisticRegression(C=1, class_weight='balanced',multi_class='ovr', penalty='l1', solver= 'liblinear') \n",
    "classifier_LR.fit(X_train,y_train)\n",
    "predictions = classifier_LR.predict(X_test)\n",
    "print(classification_report(y_test,predictions))\n",
    "print(\"Accuracy score: %s\" %metrics.accuracy_score(y_test, predictions))\n",
    "print(\"Precision score: %s\" %metrics.precision_score(y_test, predictions, average='weighted'))\n",
    "print(\"Recall score: %s\" %metrics.recall_score(y_test, predictions, average='weighted'))\n",
    "print(\"Macro-f1-score: %s\" %metrics.f1_score(y_test, predictions, average='macro'))"
   ]
  },
  {
   "cell_type": "markdown",
   "metadata": {},
   "source": [
    "#### 3. 得到混淆矩阵"
   ]
  },
  {
   "cell_type": "code",
   "execution_count": 62,
   "metadata": {},
   "outputs": [
    {
     "name": "stdout",
     "output_type": "stream",
     "text": [
      "Confusion matrix:\n",
      "[[558  62]\n",
      " [ 96 144]]\n"
     ]
    },
    {
     "data": {
      "image/png": "[encoded data removed]",
      "text/plain": [
       "<Figure size 432x288 with 2 Axes>"
      ]
     },
     "metadata": {
      "needs_background": "light"
     },
     "output_type": "display_data"
    }
   ],
   "source": [
    "# confusion matrix\n",
    "import numpy as np\n",
    "import matplotlib.pyplot as plt\n",
    "from sklearn.metrics import plot_confusion_matrix\n",
    "np.set_printoptions(suppress=True)\n",
    "disp = metrics.plot_confusion_matrix(classifier_LR, X_test, y_test,values_format='.0f', cmap=plt.cm.Blues_r,\n",
    "                                     normalize = None)\n",
    "disp.figure_.suptitle(\"Confusion Matrix: task a\")\n",
    "print(\"Confusion matrix:\\n%s\" % disp.confusion_matrix)\n",
    "# 需要保存图片时用：\n",
    "plt.savefig(\"LR_best.png\")\n",
    "plt.show()"
   ]
  },
  {
   "cell_type": "markdown",
   "metadata": {},
   "source": [
    "#### 第二种方法：也可以用LogisticRegressionCV调参 (速度较快）"
   ]
  },
  {
   "cell_type": "code",
   "execution_count": 63,
   "metadata": {},
   "outputs": [
    {
     "name": "stdout",
     "output_type": "stream",
     "text": [
      "              precision    recall  f1-score   support\n",
      "\n",
      "         NOT       0.85      0.90      0.88       620\n",
      "         OFF       0.70      0.60      0.65       240\n",
      "\n",
      "    accuracy                           0.82       860\n",
      "   macro avg       0.78      0.75      0.76       860\n",
      "weighted avg       0.81      0.82      0.81       860\n",
      "\n",
      "Accuracy score: 0.8162790697674419\n",
      "Precision score: 0.8101835069527157\n",
      "Recall score: 0.8162790697674419\n",
      "Macro-f1-score: 0.7608605360046744\n"
     ]
    }
   ],
   "source": [
    "from sklearn.metrics import classification_report\n",
    "from sklearn import metrics\n",
    "from sklearn.linear_model import LogisticRegressionCV\n",
    "\n",
    "classifier_LR = LogisticRegressionCV(Cs=[1,10,100], cv=10, scoring='f1_macro',\n",
    "                                     class_weight='balanced',multi_class='ovr', penalty='l1', solver= 'liblinear') \n",
    "classifier_LR.fit(X_train,y_train)\n",
    "predictions = classifier_LR.predict(X_test)\n",
    "\n",
    "print(classification_report(y_test,predictions))\n",
    "print(\"Accuracy score: %s\" %metrics.accuracy_score(y_test, predictions))\n",
    "print(\"Precision score: %s\" %metrics.precision_score(y_test, predictions, average='weighted'))\n",
    "print(\"Recall score: %s\" %metrics.recall_score(y_test, predictions, average='weighted'))\n",
    "print(\"Macro-f1-score: %s\" %metrics.f1_score(y_test, predictions, average='macro'))"
   ]
  },
  {
   "cell_type": "markdown",
   "metadata": {},
   "source": [
    "#### ROC曲线（Reiciving Operating Characteristic) 受试者工作特征 与 AUC（Area Under Curve) ROC 曲线下面积"
   ]
  },
  {
   "cell_type": "markdown",
   "metadata": {},
   "source": [
    "<a href=https://www.cnblogs.com/caiyishuai/p/11185223.html>主要参考：以垃圾邮件为例的逻辑回归模型</a>"
   ]
  },
  {
   "cell_type": "markdown",
   "metadata": {},
   "source": [
    "tips：command+Z 恢复误删代码"
   ]
  },
  {
   "cell_type": "code",
   "execution_count": 80,
   "metadata": {},
   "outputs": [
    {
     "data": {
      "image/png": "[encoded data removed]",
      "text/plain": [
       "<Figure size 432x288 with 1 Axes>"
      ]
     },
     "metadata": {
      "needs_background": "light"
     },
     "output_type": "display_data"
    },
    {
     "name": "stdout",
     "output_type": "stream",
     "text": [
      "AUC =  0.83\n"
     ]
    }
   ],
   "source": [
    "from sklearn.metrics import classification_report\n",
    "from sklearn.metrics import roc_curve, auc\n",
    "\n",
    "# 有时必须要将标签转为数值\n",
    "from sklearn.preprocessing import LabelEncoder\n",
    "class_le = LabelEncoder()\n",
    "y_train_n = class_le.fit_transform(y_train)\n",
    "y_test_n = class_le.fit_transform(y_test)\n",
    "\n",
    "classifier = classifier_LR\n",
    "predictions_pro = classifier.predict_proba(X_test)\n",
    "fpr, tpr, thresholds = roc_curve(y_test_n,predictions_pro[:,1])\n",
    "roc_auc = auc(fpr,tpr)\n",
    "\n",
    "plt.title(\"ROC (Receiver operating characteristic)\")\n",
    "plt.plot(fpr,tpr, 'b', label='AUC = % 0.2f' % roc_auc)\n",
    "plt.legend(loc='lower right')\n",
    "plt.plot([0,1],[0,1],'r--')\n",
    "plt.xlim([0.0, 1.0])\n",
    "plt.ylim([0.0, 1.0])\n",
    "plt.xlabel('False Positive Rate')\n",
    "plt.ylabel('True Positive Rate')\n",
    "plt.show()\n",
    "print('AUC = % 0.2f' % auc(fpr,tpr))"
   ]
  },
  {
   "cell_type": "markdown",
   "metadata": {},
   "source": [
    "## Random Forest \n",
    "用了两种调参方法，生成树有随机性  \n",
    "最高macro-f1=0.74，比默认参数模型提升0.02"
   ]
  },
  {
   "cell_type": "markdown",
   "metadata": {},
   "source": [
    "<a href=https://www.cnblogs.com/pinard/p/6160412.html?utm_source?itdadao&utm_medium?referral>Random Forest参数说明</a>"
   ]
  },
  {
   "cell_type": "markdown",
   "metadata": {},
   "source": [
    "#### 1. 首先使用RandomizedSearchCV 进行大概率最优解"
   ]
  },
  {
   "cell_type": "markdown",
   "metadata": {},
   "source": [
    "n_estimators表示森林里树的个数，理论上是越大越好，但是计算时间也相应增长.  \n",
    "\"max_features\": ['auto','sqrt', 'log2'],        \n",
    "\"bootstrap\": [True, False],   \n",
    "bootstrap默认=TRUE每次有放回地随机选取样本\n",
    "n_jobs,决定了使用的CPU内核个数,使用更多的内核能使速度增快,n_jobs = -1可以调用所有内核 (默认1）;  \n",
    "cv交叉验证，默认=5；  \n",
    "scoring模型算分方法, 默认=None,采用分类器的算分方法"
   ]
  },
  {
   "cell_type": "code",
   "execution_count": 52,
   "metadata": {},
   "outputs": [
    {
     "name": "stdout",
     "output_type": "stream",
     "text": [
      "Fitting 5 folds for each of 100 candidates, totalling 500 fits\n"
     ]
    },
    {
     "name": "stderr",
     "output_type": "stream",
     "text": [
      "[Parallel(n_jobs=-1)]: Using backend LokyBackend with 4 concurrent workers.\n",
      "[Parallel(n_jobs=-1)]: Done  33 tasks      | elapsed:  2.6min\n",
      "[Parallel(n_jobs=-1)]: Done 154 tasks      | elapsed: 21.6min\n",
      "[Parallel(n_jobs=-1)]: Done 357 tasks      | elapsed: 48.3min\n",
      "[Parallel(n_jobs=-1)]: Done 500 out of 500 | elapsed: 68.1min finished\n"
     ]
    },
    {
     "data": {
      "text/plain": [
       "{'n_estimators': 733,\n",
       " 'min_samples_split': 10,\n",
       " 'min_samples_leaf': 4,\n",
       " 'max_features': 'sqrt',\n",
       " 'max_depth': None,\n",
       " 'bootstrap': False}"
      ]
     },
     "execution_count": 52,
     "metadata": {},
     "output_type": "execute_result"
    }
   ],
   "source": [
    "from sklearn.model_selection import RandomizedSearchCV\n",
    "from sklearn.ensemble import RandomForestClassifier\n",
    "# Number of trees in random forest\n",
    "n_estimators = [int(x) for x in np.linspace(start = 100, stop = 2000, num = 10)]\n",
    "# Number of features to consider at every split\n",
    "max_features = ['auto', 'sqrt']\n",
    "# Maximum number of levels in tree\n",
    "max_depth = [int(x) for x in np.linspace(2, 100, num = 10)]\n",
    "max_depth.append(None)\n",
    "# Minimum number of samples required to split a node\n",
    "min_samples_split = [int(x) for x in np.linspace(start = 10, stop = 200, num = 10)]\n",
    "# Minimum number of samples required at each leaf node\n",
    "min_samples_leaf = [1, 2, 4]\n",
    "# Method of selecting samples for training each tree\n",
    "bootstrap = [True, False]\n",
    " \n",
    "# Create the random grid\n",
    "random_grid = {'n_estimators': n_estimators,\n",
    "               'max_features': max_features,\n",
    "               'max_depth': max_depth,\n",
    "               'min_samples_split': min_samples_split,\n",
    "               'min_samples_leaf': min_samples_leaf,\n",
    "               'bootstrap': bootstrap}\n",
    " \n",
    " \n",
    "# Use the random grid to search for best hyperparameters\n",
    "# First create the base model to tune\n",
    "rf = RandomForestClassifier()\n",
    "# Random search of parameters, using 3 fold cross validation, \n",
    "# search across 100 different combinations, and use all available cores\n",
    "rf_random = RandomizedSearchCV(estimator=rf, param_distributions=random_grid,\n",
    "                              n_iter = 100, scoring='f1_macro', \n",
    "                              cv = 5, verbose=2, random_state=42, n_jobs=-1)\n",
    " \n",
    "# Fit the random search model\n",
    "rf_random.fit(X, y)\n",
    "rf_random.best_params_"
   ]
  },
  {
   "cell_type": "markdown",
   "metadata": {},
   "source": [
    "#### 2. 再用GridsearchCV进行小范围调参（耗时过于长）"
   ]
  },
  {
   "cell_type": "code",
   "execution_count": 69,
   "metadata": {},
   "outputs": [
    {
     "name": "stdout",
     "output_type": "stream",
     "text": [
      "This is the best parameters for Random Forest: (GridsearchCV)\n",
      "{'bootstrap': False, 'criterion': 'gini', 'max_depth': None, 'max_features': 'sqrt', 'min_samples_leaf': 3, 'min_samples_split': 12, 'n_estimators': 733}\n"
     ]
    }
   ],
   "source": [
    "# Random Forest\n",
    "# GridsearchCV调参 \n",
    "import numpy as np\n",
    "from scipy.stats import randint as sp_randint\n",
    "from sklearn.model_selection import GridSearchCV\n",
    "from sklearn.datasets import load_digits\n",
    "from sklearn.ensemble import RandomForestClassifier\n",
    "\n",
    "# 载入数据\n",
    "digits = load_digits()\n",
    "X, y = X_train, y_train\n",
    "\n",
    "clf = RandomForestClassifier() \n",
    "param_grid = {'n_estimators': [733],\n",
    "              'min_samples_split': [8,10,12],\n",
    "              'min_samples_leaf': [3,4,5],\n",
    "              'max_features': ['sqrt'],\n",
    "              'max_depth': [None],\n",
    "              'bootstrap': [False],               \n",
    "              \"criterion\": [\"gini\", \"entropy\"]} \n",
    "# run grid search\n",
    "grid_search = GridSearchCV(clf, param_grid, cv = 5, scoring = 'f1_macro') \n",
    "grid_search.fit(X, y)\n",
    "#print(grid_search.score）\n",
    "predict = grid_search.predict(X_test)\n",
    "#print(classification_report(y_test,predict))\n",
    "print('This is the best parameters for Random Forest: (GridsearchCV)')\n",
    "print(grid_search.best_params_)"
   ]
  },
  {
   "cell_type": "markdown",
   "metadata": {},
   "source": [
    "#### 3. 得到最优参数组合后，重新进行预测"
   ]
  },
  {
   "cell_type": "markdown",
   "metadata": {},
   "source": [
    "macro-f1=0.75, 比默认参数模型提升0.03"
   ]
  },
  {
   "cell_type": "code",
   "execution_count": 64,
   "metadata": {},
   "outputs": [
    {
     "name": "stdout",
     "output_type": "stream",
     "text": [
      "              precision    recall  f1-score   support\n",
      "\n",
      "         NOT       0.83      0.93      0.88       620\n",
      "         OFF       0.75      0.52      0.61       240\n",
      "\n",
      "    accuracy                           0.82       860\n",
      "   macro avg       0.79      0.73      0.75       860\n",
      "weighted avg       0.81      0.82      0.81       860\n",
      "\n",
      "Accuracy score: 0.8174418604651162\n",
      "Precision score: 0.8103274674129618\n",
      "Recall score: 0.8174418604651162\n",
      "Macro-f1-score: 0.7464770220156786\n"
     ]
    }
   ],
   "source": [
    "import numpy as np\n",
    "from sklearn.datasets import load_digits\n",
    "from sklearn.ensemble import RandomForestClassifier\n",
    "\n",
    "\n",
    "param_dist = {'n_estimators': 733,\n",
    " 'min_samples_split': 12,\n",
    " 'min_samples_leaf': 3,\n",
    " 'max_features': 'sqrt',\n",
    " 'max_depth': None,\n",
    " 'bootstrap': False}\n",
    "\n",
    "classifier_rf = RandomForestClassifier(n_estimators = 733, min_samples_split = 12, min_samples_leaf = 3, \n",
    "                   max_features = 'sqrt', max_depth = None, bootstrap = False,criterion='gini') \n",
    "classifier_rf.fit(X_train,y_train)\n",
    "predictions = classifier_rf.predict(X_test)\n",
    "\n",
    "print(classification_report(y_test,predictions))\n",
    "print(\"Accuracy score: %s\" %metrics.accuracy_score(y_test, predictions))\n",
    "print(\"Precision score: %s\" %metrics.precision_score(y_test, predictions, average='weighted'))\n",
    "print(\"Recall score: %s\" %metrics.recall_score(y_test, predictions, average='weighted'))\n",
    "print(\"Macro-f1-score: %s\" %metrics.f1_score(y_test, predictions, average='macro'))\n"
   ]
  },
  {
   "cell_type": "markdown",
   "metadata": {},
   "source": [
    "#### 4.混淆矩阵"
   ]
  },
  {
   "cell_type": "code",
   "execution_count": 65,
   "metadata": {},
   "outputs": [
    {
     "name": "stdout",
     "output_type": "stream",
     "text": [
      "Confusion matrix:\n",
      "[[579  41]\n",
      " [116 124]]\n"
     ]
    },
    {
     "data": {
      "image/png": "[encoded data removed]",
      "text/plain": [
       "<Figure size 432x288 with 2 Axes>"
      ]
     },
     "metadata": {
      "needs_background": "light"
     },
     "output_type": "display_data"
    }
   ],
   "source": [
    "import matplotlib.pyplot as plt\n",
    "from sklearn.metrics import plot_confusion_matrix\n",
    "from sklearn.metrics import classification_report\n",
    "from sklearn import metrics\n",
    "# confusion matrix\n",
    "disp = metrics.plot_confusion_matrix(classifier_rf, X_test, y_test,values_format='.0f', cmap=plt.cm.Blues_r,\n",
    "                                     normalize = None)\n",
    "disp.figure_.suptitle(\"Confusion Matrix: task a\")\n",
    "print(\"Confusion matrix:\\n%s\" % disp.confusion_matrix)\n",
    "plt.savefig(\"tree_best\")\n",
    "plt.show()"
   ]
  },
  {
   "cell_type": "markdown",
   "metadata": {},
   "source": [
    "### SVM"
   ]
  },
  {
   "cell_type": "markdown",
   "metadata": {},
   "source": [
    "<a href=https://blog.csdn.net/Ling_cmd/article/details/81063902>SVM参数说明</a>"
   ]
  },
  {
   "cell_type": "markdown",
   "metadata": {},
   "source": [
    "macro-f1=0.73,比默认参数模型提高0.006  \n",
    "OFF的recall提高0.03  \n",
    "accuracy提高0.003"
   ]
  },
  {
   "cell_type": "markdown",
   "metadata": {},
   "source": [
    "#### 1. 用gridsearchCV调参得到最优参数组合（耗时过于长）"
   ]
  },
  {
   "cell_type": "code",
   "execution_count": 129,
   "metadata": {},
   "outputs": [
    {
     "name": "stdout",
     "output_type": "stream",
     "text": [
      "Fitting 5 folds for each of 14 candidates, totalling 70 fits\n"
     ]
    },
    {
     "name": "stderr",
     "output_type": "stream",
     "text": [
      "[Parallel(n_jobs=1)]: Using backend SequentialBackend with 1 concurrent workers.\n",
      "[Parallel(n_jobs=1)]: Done  70 out of  70 | elapsed: 48.0min finished\n"
     ]
    },
    {
     "name": "stdout",
     "output_type": "stream",
     "text": [
      "Best parameters set found: {'C': 1000, 'gamma': 0.001}\n"
     ]
    }
   ],
   "source": [
    "# svm\n",
    "from sklearn.svm import SVC\n",
    "from sklearn import metrics\n",
    "from sklearn.metrics import classification_report\n",
    "\n",
    "digits = load_digits()\n",
    "model = SVC(kernel='rbf', probability=True)\n",
    "\n",
    "param_grid = {'C': [1e-3, 1e-2, 1e-1, 1, 10, 100,1000], 'gamma': [0.001, 0.0001]}\n",
    "grid_search = GridSearchCV(model, param_grid, n_jobs = -1, verbose=1, scoring = 'f1_macro')  \n",
    "grid_search.fit(X_train, y_train)\n",
    "print('Best parameters set found:',grid_search.best_params_)"
   ]
  },
  {
   "cell_type": "markdown",
   "metadata": {},
   "source": [
    "#### 2. 得到最优参数组合后，重新进行预测"
   ]
  },
  {
   "cell_type": "code",
   "execution_count": 66,
   "metadata": {},
   "outputs": [
    {
     "name": "stdout",
     "output_type": "stream",
     "text": [
      "              precision    recall  f1-score   support\n",
      "\n",
      "         NOT       0.82      0.92      0.87       620\n",
      "         OFF       0.71      0.49      0.58       240\n",
      "\n",
      "    accuracy                           0.80       860\n",
      "   macro avg       0.77      0.71      0.73       860\n",
      "weighted avg       0.79      0.80      0.79       860\n",
      "\n",
      "Accuracy score: 0.8023255813953488\n",
      "Precision score: 0.7925709943856923\n",
      "Recall score: 0.8023255813953488\n",
      "Macro-f1-score: 0.7259524184417903\n"
     ]
    }
   ],
   "source": [
    "from sklearn.metrics import classification_report\n",
    "from sklearn import metrics\n",
    "from sklearn.svm import SVC\n",
    "\n",
    "classifier_svm = SVC(C = 1000, gamma = 0.001) \n",
    "classifier_svm.fit(X_train,y_train)\n",
    "predictions = classifier_svm.predict(X_test)\n",
    "\n",
    "print(classification_report(y_test,predictions))\n",
    "print(\"Accuracy score: %s\" %metrics.accuracy_score(y_test, predictions))\n",
    "print(\"Precision score: %s\" %metrics.precision_score(y_test, predictions, average='weighted'))\n",
    "print(\"Recall score: %s\" %metrics.recall_score(y_test, predictions, average='weighted'))\n",
    "print(\"Macro-f1-score: %s\" %metrics.f1_score(y_test, predictions, average='macro'))"
   ]
  },
  {
   "cell_type": "code",
   "execution_count": 69,
   "metadata": {},
   "outputs": [
    {
     "name": "stdout",
     "output_type": "stream",
     "text": [
      "Confusion matrix:\n",
      "[[572  48]\n",
      " [122 118]]\n"
     ]
    },
    {
     "data": {
      "image/png": "[encoded data removed]",
      "text/plain": [
       "<Figure size 432x288 with 2 Axes>"
      ]
     },
     "metadata": {
      "needs_background": "light"
     },
     "output_type": "display_data"
    }
   ],
   "source": [
    "import matplotlib.pyplot as plt\n",
    "from sklearn.metrics import plot_confusion_matrix\n",
    "from sklearn.metrics import classification_report\n",
    "from sklearn import metrics\n",
    "# confusion matrix\n",
    "disp = metrics.plot_confusion_matrix(classifier_svm, X_test, y_test,values_format='.0f', cmap=plt.cm.Oranges,\n",
    "                                     normalize = None)\n",
    "disp.figure_.suptitle(\"Confusion Matrix: task a\")\n",
    "print(\"Confusion matrix:\\n%s\" % disp.confusion_matrix)\n",
    "plt.savefig(\"svm_best\")\n",
    "plt.show()"
   ]
  },
  {
   "cell_type": "markdown",
   "metadata": {},
   "source": [
    "#### 附加：标准化混淆矩阵"
   ]
  },
  {
   "cell_type": "code",
   "execution_count": 24,
   "metadata": {},
   "outputs": [
    {
     "name": "stdout",
     "output_type": "stream",
     "text": [
      "Confusion matrix, without normalization\n",
      "[[593  27]\n",
      " [136 104]]\n",
      "Normalized confusion matrix\n",
      "[[0.96 0.04]\n",
      " [0.57 0.43]]\n"
     ]
    },
    {
     "data": {
      "image/png": "[encoded data removed]",
      "text/plain": [
       "<Figure size 432x288 with 2 Axes>"
      ]
     },
     "metadata": {
      "needs_background": "light"
     },
     "output_type": "display_data"
    },
    {
     "data": {
      "image/png": "[encoded data removed]",
      "text/plain": [
       "<Figure size 432x288 with 2 Axes>"
      ]
     },
     "metadata": {
      "needs_background": "light"
     },
     "output_type": "display_data"
    }
   ],
   "source": [
    "from sklearn import svm, datasets\n",
    "from sklearn.model_selection import train_test_split\n",
    "from sklearn.metrics import plot_confusion_matrix\n",
    "\n",
    "# import some data to play with\n",
    "class_names = ['NOT', 'OFF']\n",
    "\n",
    "# Run classifier, using a model that is too regularized (C too low) to see\n",
    "# the impact on the results\n",
    "# classifier = svm.SVC(kernel='linear', C=0.01).fit(X_train, y_train)\n",
    "LR = LogisticRegression()\n",
    "classifier = LR.fit(X_train,y_train)\n",
    "np.set_printoptions(precision=2)\n",
    "\n",
    "# Plot non-normalized confusion matrix\n",
    "titles_options = [(\"Confusion matrix, without normalization\", None),\n",
    "                  (\"Normalized confusion matrix\", 'true')]\n",
    "for title, normalize in titles_options:\n",
    "    disp = plot_confusion_matrix(classifier, X_test, y_test,\n",
    "                                 display_labels=class_names,\n",
    "                                 values_format='.3f',\n",
    "                                 cmap=plt.cm.Oranges,\n",
    "                                 normalize=normalize)\n",
    "    disp.ax_.set_title(title)\n",
    "\n",
    "    print(title)\n",
    "    print(disp.confusion_matrix)\n",
    "\n",
    "plt.show()"
   ]
  }
 ],
 "metadata": {
  "kernelspec": {
   "display_name": "Python 3",
   "language": "python",
   "name": "python3"
  },
  "language_info": {
   "codemirror_mode": {
    "name": "ipython",
    "version": 3
   },
   "file_extension": ".py",
   "mimetype": "text/x-python",
   "name": "python",
   "nbconvert_exporter": "python",
   "pygments_lexer": "ipython3",
   "version": "3.7.3"
  }
 },
 "nbformat": 4,
 "nbformat_minor": 2
}
